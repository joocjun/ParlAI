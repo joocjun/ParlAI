{
 "cells": [
  {
   "cell_type": "code",
   "execution_count": 5,
   "metadata": {},
   "outputs": [],
   "source": [
    "import pandas as pd\n",
    "import json\n",
    "with open('/home/sejune/ParlAI/projects/roscoe/roscoe_data/generated/sampled_cot.json', 'r') as f:\n",
    "    data = json.load(f)\n",
    "\n",
    "result = {str(idx):_data for idx, _data in enumerate(data)}"
   ]
  },
  {
   "cell_type": "code",
   "execution_count": 1,
   "metadata": {},
   "outputs": [],
   "source": []
  },
  {
   "cell_type": "code",
   "execution_count": 7,
   "metadata": {},
   "outputs": [],
   "source": [
    "with open('/home/sejune/ParlAI/projects/roscoe/roscoe_data/generated/sampled_cot.json', 'w') as f:\n",
    "    json.dump(result, f, indent=4)"
   ]
  },
  {
   "cell_type": "code",
   "execution_count": 2,
   "metadata": {},
   "outputs": [],
   "source": []
  },
  {
   "cell_type": "code",
   "execution_count": 6,
   "metadata": {},
   "outputs": [],
   "source": [
    "rationale = pd.read_csv(\"roscoe-512-roberta-base/scores_sampled_rationale.tsv\", sep=\"\\s+\")\n",
    "seed = pd.read_csv(\"roscoe-512-roberta-base/scores_sampled_seed.tsv\",sep=\"\\s+\")\n",
    "cot = pd.read_csv(\"roscoe-512-roberta-base/scores_sampled_cot.tsv\",sep=\"\\s+\")"
   ]
  },
  {
   "cell_type": "code",
   "execution_count": 3,
   "metadata": {},
   "outputs": [],
   "source": [
    "rationale.to_csv(\"roscoe-512-roberta-base/scores_sampled_rationale.csv\", index=False)\n",
    "seed.to_csv(\"roscoe-512-roberta-base/scores_sampled_seed.csv\", index=False)\n",
    "cot.to_csv(\"roscoe-512-roberta-base/scores_sampled_cot.csv\", index=False)"
   ]
  },
  {
   "cell_type": "code",
   "execution_count": 16,
   "metadata": {},
   "outputs": [
    {
     "data": {
      "text/html": [
       "<div>\n",
       "<style scoped>\n",
       "    .dataframe tbody tr th:only-of-type {\n",
       "        vertical-align: middle;\n",
       "    }\n",
       "\n",
       "    .dataframe tbody tr th {\n",
       "        vertical-align: top;\n",
       "    }\n",
       "\n",
       "    .dataframe thead th {\n",
       "        text-align: right;\n",
       "    }\n",
       "</style>\n",
       "<table border=\"1\" class=\"dataframe\">\n",
       "  <thead>\n",
       "    <tr style=\"text-align: right;\">\n",
       "      <th></th>\n",
       "      <th>augmented</th>\n",
       "      <th>cot</th>\n",
       "    </tr>\n",
       "  </thead>\n",
       "  <tbody>\n",
       "    <tr>\n",
       "      <th>ID</th>\n",
       "      <td>531.000000</td>\n",
       "      <td>6541.500000</td>\n",
       "    </tr>\n",
       "    <tr>\n",
       "      <th>faithfulness</th>\n",
       "      <td>0.891391</td>\n",
       "      <td>0.887701</td>\n",
       "    </tr>\n",
       "    <tr>\n",
       "      <th>informativeness_step</th>\n",
       "      <td>0.879284</td>\n",
       "      <td>0.867529</td>\n",
       "    </tr>\n",
       "    <tr>\n",
       "      <th>informativeness_chain</th>\n",
       "      <td>0.941931</td>\n",
       "      <td>0.945117</td>\n",
       "    </tr>\n",
       "    <tr>\n",
       "      <th>faithfulness_ww</th>\n",
       "      <td>0.952127</td>\n",
       "      <td>0.949391</td>\n",
       "    </tr>\n",
       "    <tr>\n",
       "      <th>repetition_word</th>\n",
       "      <td>0.279712</td>\n",
       "      <td>0.562798</td>\n",
       "    </tr>\n",
       "    <tr>\n",
       "      <th>repetition_step</th>\n",
       "      <td>0.291013</td>\n",
       "      <td>0.573211</td>\n",
       "    </tr>\n",
       "    <tr>\n",
       "      <th>discourse_representation</th>\n",
       "      <td>0.468723</td>\n",
       "      <td>0.686887</td>\n",
       "    </tr>\n",
       "    <tr>\n",
       "      <th>coherence_step_vs_step</th>\n",
       "      <td>0.781334</td>\n",
       "      <td>0.878215</td>\n",
       "    </tr>\n",
       "    <tr>\n",
       "      <th>perplexity_step</th>\n",
       "      <td>0.012176</td>\n",
       "      <td>0.014652</td>\n",
       "    </tr>\n",
       "    <tr>\n",
       "      <th>perplexity_chain</th>\n",
       "      <td>0.025466</td>\n",
       "      <td>0.027629</td>\n",
       "    </tr>\n",
       "    <tr>\n",
       "      <th>perplexity_step_max</th>\n",
       "      <td>0.008754</td>\n",
       "      <td>0.013115</td>\n",
       "    </tr>\n",
       "    <tr>\n",
       "      <th>grammar_step</th>\n",
       "      <td>0.872113</td>\n",
       "      <td>0.873983</td>\n",
       "    </tr>\n",
       "    <tr>\n",
       "      <th>grammar_step_max</th>\n",
       "      <td>0.772380</td>\n",
       "      <td>0.831423</td>\n",
       "    </tr>\n",
       "  </tbody>\n",
       "</table>\n",
       "</div>"
      ],
      "text/plain": [
       "                           augmented          cot\n",
       "ID                        531.000000  6541.500000\n",
       "faithfulness                0.891391     0.887701\n",
       "informativeness_step        0.879284     0.867529\n",
       "informativeness_chain       0.941931     0.945117\n",
       "faithfulness_ww             0.952127     0.949391\n",
       "repetition_word             0.279712     0.562798\n",
       "repetition_step             0.291013     0.573211\n",
       "discourse_representation    0.468723     0.686887\n",
       "coherence_step_vs_step      0.781334     0.878215\n",
       "perplexity_step             0.012176     0.014652\n",
       "perplexity_chain            0.025466     0.027629\n",
       "perplexity_step_max         0.008754     0.013115\n",
       "grammar_step                0.872113     0.873983\n",
       "grammar_step_max            0.772380     0.831423"
      ]
     },
     "execution_count": 16,
     "metadata": {},
     "output_type": "execute_result"
    }
   ],
   "source": [
    "mean_df"
   ]
  },
  {
   "cell_type": "code",
   "execution_count": 15,
   "metadata": {},
   "outputs": [],
   "source": [
    "# calculate the mean of each column in both dataframes\n",
    "df1_mean = rationale.mean()\n",
    "df2_mean = cot.mean()\n",
    "\n",
    "# create a new dataframe with the mean of the columns in both dataframes\n",
    "mean_df = pd.concat([df1_mean, df2_mean], axis=1)\n",
    "mean_df.columns = ['augmented', 'cot']"
   ]
  },
  {
   "cell_type": "code",
   "execution_count": 18,
   "metadata": {},
   "outputs": [
    {
     "ename": "ValueError",
     "evalue": "Grouper and axis must be same length",
     "output_type": "error",
     "traceback": [
      "\u001b[0;31m---------------------------------------------------------------------------\u001b[0m",
      "\u001b[0;31mValueError\u001b[0m                                Traceback (most recent call last)",
      "Cell \u001b[0;32mIn[18], line 4\u001b[0m\n\u001b[1;32m      1\u001b[0m \u001b[39mimport\u001b[39;00m \u001b[39mpandas\u001b[39;00m \u001b[39mas\u001b[39;00m \u001b[39mpd\u001b[39;00m\n\u001b[1;32m      2\u001b[0m \u001b[39mimport\u001b[39;00m \u001b[39mseaborn\u001b[39;00m \u001b[39mas\u001b[39;00m \u001b[39msns\u001b[39;00m\n\u001b[0;32m----> 4\u001b[0m sns\u001b[39m.\u001b[39;49mbarplot(x\u001b[39m=\u001b[39;49mmean_df\u001b[39m.\u001b[39;49mindex, y\u001b[39m=\u001b[39;49m\u001b[39m\"\u001b[39;49m\u001b[39mvalue\u001b[39;49m\u001b[39m\"\u001b[39;49m, hue\u001b[39m=\u001b[39;49m\u001b[39m\"\u001b[39;49m\u001b[39mvariable\u001b[39;49m\u001b[39m\"\u001b[39;49m, data\u001b[39m=\u001b[39;49mpd\u001b[39m.\u001b[39;49mmelt(mean_df))\n",
      "File \u001b[0;32m~/.conda/envs/art/lib/python3.8/site-packages/seaborn/categorical.py:2755\u001b[0m, in \u001b[0;36mbarplot\u001b[0;34m(data, x, y, hue, order, hue_order, estimator, errorbar, n_boot, units, seed, orient, color, palette, saturation, width, errcolor, errwidth, capsize, dodge, ci, ax, **kwargs)\u001b[0m\n\u001b[1;32m   2752\u001b[0m \u001b[39mif\u001b[39;00m estimator \u001b[39mis\u001b[39;00m \u001b[39mlen\u001b[39m:\n\u001b[1;32m   2753\u001b[0m     estimator \u001b[39m=\u001b[39m \u001b[39m\"\u001b[39m\u001b[39msize\u001b[39m\u001b[39m\"\u001b[39m\n\u001b[0;32m-> 2755\u001b[0m plotter \u001b[39m=\u001b[39m _BarPlotter(x, y, hue, data, order, hue_order,\n\u001b[1;32m   2756\u001b[0m                       estimator, errorbar, n_boot, units, seed,\n\u001b[1;32m   2757\u001b[0m                       orient, color, palette, saturation,\n\u001b[1;32m   2758\u001b[0m                       width, errcolor, errwidth, capsize, dodge)\n\u001b[1;32m   2760\u001b[0m \u001b[39mif\u001b[39;00m ax \u001b[39mis\u001b[39;00m \u001b[39mNone\u001b[39;00m:\n\u001b[1;32m   2761\u001b[0m     ax \u001b[39m=\u001b[39m plt\u001b[39m.\u001b[39mgca()\n",
      "File \u001b[0;32m~/.conda/envs/art/lib/python3.8/site-packages/seaborn/categorical.py:1530\u001b[0m, in \u001b[0;36m_BarPlotter.__init__\u001b[0;34m(self, x, y, hue, data, order, hue_order, estimator, errorbar, n_boot, units, seed, orient, color, palette, saturation, width, errcolor, errwidth, capsize, dodge)\u001b[0m\n\u001b[1;32m   1525\u001b[0m \u001b[39mdef\u001b[39;00m \u001b[39m__init__\u001b[39m(\u001b[39mself\u001b[39m, x, y, hue, data, order, hue_order,\n\u001b[1;32m   1526\u001b[0m              estimator, errorbar, n_boot, units, seed,\n\u001b[1;32m   1527\u001b[0m              orient, color, palette, saturation, width,\n\u001b[1;32m   1528\u001b[0m              errcolor, errwidth, capsize, dodge):\n\u001b[1;32m   1529\u001b[0m \u001b[39m    \u001b[39m\u001b[39m\"\"\"Initialize the plotter.\"\"\"\u001b[39;00m\n\u001b[0;32m-> 1530\u001b[0m     \u001b[39mself\u001b[39;49m\u001b[39m.\u001b[39;49mestablish_variables(x, y, hue, data, orient,\n\u001b[1;32m   1531\u001b[0m                              order, hue_order, units)\n\u001b[1;32m   1532\u001b[0m     \u001b[39mself\u001b[39m\u001b[39m.\u001b[39mestablish_colors(color, palette, saturation)\n\u001b[1;32m   1533\u001b[0m     \u001b[39mself\u001b[39m\u001b[39m.\u001b[39mestimate_statistic(estimator, errorbar, n_boot, seed)\n",
      "File \u001b[0;32m~/.conda/envs/art/lib/python3.8/site-packages/seaborn/categorical.py:594\u001b[0m, in \u001b[0;36m_CategoricalPlotter.establish_variables\u001b[0;34m(self, x, y, hue, data, orient, order, hue_order, units)\u001b[0m\n\u001b[1;32m    591\u001b[0m group_names \u001b[39m=\u001b[39m categorical_order(groups, order)\n\u001b[1;32m    593\u001b[0m \u001b[39m# Group the numeric data\u001b[39;00m\n\u001b[0;32m--> 594\u001b[0m plot_data, value_label \u001b[39m=\u001b[39m \u001b[39mself\u001b[39;49m\u001b[39m.\u001b[39;49m_group_longform(vals, groups,\n\u001b[1;32m    595\u001b[0m                                               group_names)\n\u001b[1;32m    597\u001b[0m \u001b[39m# Now handle the hue levels for nested ordering\u001b[39;00m\n\u001b[1;32m    598\u001b[0m \u001b[39mif\u001b[39;00m hue \u001b[39mis\u001b[39;00m \u001b[39mNone\u001b[39;00m:\n",
      "File \u001b[0;32m~/.conda/envs/art/lib/python3.8/site-packages/seaborn/categorical.py:641\u001b[0m, in \u001b[0;36m_CategoricalPlotter._group_longform\u001b[0;34m(self, vals, grouper, order)\u001b[0m\n\u001b[1;32m    638\u001b[0m     vals \u001b[39m=\u001b[39m pd\u001b[39m.\u001b[39mSeries(vals, index\u001b[39m=\u001b[39mindex)\n\u001b[1;32m    640\u001b[0m \u001b[39m# Group the val data\u001b[39;00m\n\u001b[0;32m--> 641\u001b[0m grouped_vals \u001b[39m=\u001b[39m vals\u001b[39m.\u001b[39;49mgroupby(grouper)\n\u001b[1;32m    642\u001b[0m out_data \u001b[39m=\u001b[39m []\n\u001b[1;32m    643\u001b[0m \u001b[39mfor\u001b[39;00m g \u001b[39min\u001b[39;00m order:\n",
      "File \u001b[0;32m~/.conda/envs/art/lib/python3.8/site-packages/pandas/core/series.py:2065\u001b[0m, in \u001b[0;36mSeries.groupby\u001b[0;34m(self, by, axis, level, as_index, sort, group_keys, observed, dropna)\u001b[0m\n\u001b[1;32m   2062\u001b[0m     \u001b[39mraise\u001b[39;00m \u001b[39mTypeError\u001b[39;00m(\u001b[39m\"\u001b[39m\u001b[39mas_index=False only valid with DataFrame\u001b[39m\u001b[39m\"\u001b[39m)\n\u001b[1;32m   2063\u001b[0m axis \u001b[39m=\u001b[39m \u001b[39mself\u001b[39m\u001b[39m.\u001b[39m_get_axis_number(axis)\n\u001b[0;32m-> 2065\u001b[0m \u001b[39mreturn\u001b[39;00m SeriesGroupBy(\n\u001b[1;32m   2066\u001b[0m     obj\u001b[39m=\u001b[39;49m\u001b[39mself\u001b[39;49m,\n\u001b[1;32m   2067\u001b[0m     keys\u001b[39m=\u001b[39;49mby,\n\u001b[1;32m   2068\u001b[0m     axis\u001b[39m=\u001b[39;49maxis,\n\u001b[1;32m   2069\u001b[0m     level\u001b[39m=\u001b[39;49mlevel,\n\u001b[1;32m   2070\u001b[0m     as_index\u001b[39m=\u001b[39;49mas_index,\n\u001b[1;32m   2071\u001b[0m     sort\u001b[39m=\u001b[39;49msort,\n\u001b[1;32m   2072\u001b[0m     group_keys\u001b[39m=\u001b[39;49mgroup_keys,\n\u001b[1;32m   2073\u001b[0m     observed\u001b[39m=\u001b[39;49mobserved,\n\u001b[1;32m   2074\u001b[0m     dropna\u001b[39m=\u001b[39;49mdropna,\n\u001b[1;32m   2075\u001b[0m )\n",
      "File \u001b[0;32m~/.conda/envs/art/lib/python3.8/site-packages/pandas/core/groupby/groupby.py:931\u001b[0m, in \u001b[0;36mGroupBy.__init__\u001b[0;34m(self, obj, keys, axis, level, grouper, exclusions, selection, as_index, sort, group_keys, observed, dropna)\u001b[0m\n\u001b[1;32m    928\u001b[0m \u001b[39mself\u001b[39m\u001b[39m.\u001b[39mdropna \u001b[39m=\u001b[39m dropna\n\u001b[1;32m    930\u001b[0m \u001b[39mif\u001b[39;00m grouper \u001b[39mis\u001b[39;00m \u001b[39mNone\u001b[39;00m:\n\u001b[0;32m--> 931\u001b[0m     grouper, exclusions, obj \u001b[39m=\u001b[39m get_grouper(\n\u001b[1;32m    932\u001b[0m         obj,\n\u001b[1;32m    933\u001b[0m         keys,\n\u001b[1;32m    934\u001b[0m         axis\u001b[39m=\u001b[39;49maxis,\n\u001b[1;32m    935\u001b[0m         level\u001b[39m=\u001b[39;49mlevel,\n\u001b[1;32m    936\u001b[0m         sort\u001b[39m=\u001b[39;49msort,\n\u001b[1;32m    937\u001b[0m         observed\u001b[39m=\u001b[39;49mobserved,\n\u001b[1;32m    938\u001b[0m         dropna\u001b[39m=\u001b[39;49m\u001b[39mself\u001b[39;49m\u001b[39m.\u001b[39;49mdropna,\n\u001b[1;32m    939\u001b[0m     )\n\u001b[1;32m    941\u001b[0m \u001b[39mself\u001b[39m\u001b[39m.\u001b[39mobj \u001b[39m=\u001b[39m obj\n\u001b[1;32m    942\u001b[0m \u001b[39mself\u001b[39m\u001b[39m.\u001b[39maxis \u001b[39m=\u001b[39m obj\u001b[39m.\u001b[39m_get_axis_number(axis)\n",
      "File \u001b[0;32m~/.conda/envs/art/lib/python3.8/site-packages/pandas/core/groupby/grouper.py:996\u001b[0m, in \u001b[0;36mget_grouper\u001b[0;34m(obj, key, axis, level, sort, observed, validate, dropna)\u001b[0m\n\u001b[1;32m    991\u001b[0m         in_axis \u001b[39m=\u001b[39m \u001b[39mFalse\u001b[39;00m\n\u001b[1;32m    993\u001b[0m     \u001b[39m# create the Grouping\u001b[39;00m\n\u001b[1;32m    994\u001b[0m     \u001b[39m# allow us to passing the actual Grouping as the gpr\u001b[39;00m\n\u001b[1;32m    995\u001b[0m     ping \u001b[39m=\u001b[39m (\n\u001b[0;32m--> 996\u001b[0m         Grouping(\n\u001b[1;32m    997\u001b[0m             group_axis,\n\u001b[1;32m    998\u001b[0m             gpr,\n\u001b[1;32m    999\u001b[0m             obj\u001b[39m=\u001b[39;49mobj,\n\u001b[1;32m   1000\u001b[0m             level\u001b[39m=\u001b[39;49mlevel,\n\u001b[1;32m   1001\u001b[0m             sort\u001b[39m=\u001b[39;49msort,\n\u001b[1;32m   1002\u001b[0m             observed\u001b[39m=\u001b[39;49mobserved,\n\u001b[1;32m   1003\u001b[0m             in_axis\u001b[39m=\u001b[39;49min_axis,\n\u001b[1;32m   1004\u001b[0m             dropna\u001b[39m=\u001b[39;49mdropna,\n\u001b[1;32m   1005\u001b[0m         )\n\u001b[1;32m   1006\u001b[0m         \u001b[39mif\u001b[39;00m \u001b[39mnot\u001b[39;00m \u001b[39misinstance\u001b[39m(gpr, Grouping)\n\u001b[1;32m   1007\u001b[0m         \u001b[39melse\u001b[39;00m gpr\n\u001b[1;32m   1008\u001b[0m     )\n\u001b[1;32m   1010\u001b[0m     groupings\u001b[39m.\u001b[39mappend(ping)\n\u001b[1;32m   1012\u001b[0m \u001b[39mif\u001b[39;00m \u001b[39mlen\u001b[39m(groupings) \u001b[39m==\u001b[39m \u001b[39m0\u001b[39m \u001b[39mand\u001b[39;00m \u001b[39mlen\u001b[39m(obj):\n",
      "File \u001b[0;32m~/.conda/envs/art/lib/python3.8/site-packages/pandas/core/groupby/grouper.py:522\u001b[0m, in \u001b[0;36mGrouping.__init__\u001b[0;34m(self, index, grouper, obj, level, sort, observed, in_axis, dropna, uniques)\u001b[0m\n\u001b[1;32m    520\u001b[0m \u001b[39mself\u001b[39m\u001b[39m.\u001b[39mlevel \u001b[39m=\u001b[39m level\n\u001b[1;32m    521\u001b[0m \u001b[39mself\u001b[39m\u001b[39m.\u001b[39m_orig_grouper \u001b[39m=\u001b[39m grouper\n\u001b[0;32m--> 522\u001b[0m grouping_vector \u001b[39m=\u001b[39m _convert_grouper(index, grouper)\n\u001b[1;32m    523\u001b[0m \u001b[39mself\u001b[39m\u001b[39m.\u001b[39m_all_grouper \u001b[39m=\u001b[39m \u001b[39mNone\u001b[39;00m\n\u001b[1;32m    524\u001b[0m \u001b[39mself\u001b[39m\u001b[39m.\u001b[39m_orig_cats \u001b[39m=\u001b[39m \u001b[39mNone\u001b[39;00m\n",
      "File \u001b[0;32m~/.conda/envs/art/lib/python3.8/site-packages/pandas/core/groupby/grouper.py:1038\u001b[0m, in \u001b[0;36m_convert_grouper\u001b[0;34m(axis, grouper)\u001b[0m\n\u001b[1;32m   1036\u001b[0m \u001b[39melif\u001b[39;00m \u001b[39misinstance\u001b[39m(grouper, (\u001b[39mlist\u001b[39m, \u001b[39mtuple\u001b[39m, Index, Categorical, np\u001b[39m.\u001b[39mndarray)):\n\u001b[1;32m   1037\u001b[0m     \u001b[39mif\u001b[39;00m \u001b[39mlen\u001b[39m(grouper) \u001b[39m!=\u001b[39m \u001b[39mlen\u001b[39m(axis):\n\u001b[0;32m-> 1038\u001b[0m         \u001b[39mraise\u001b[39;00m \u001b[39mValueError\u001b[39;00m(\u001b[39m\"\u001b[39m\u001b[39mGrouper and axis must be same length\u001b[39m\u001b[39m\"\u001b[39m)\n\u001b[1;32m   1040\u001b[0m     \u001b[39mif\u001b[39;00m \u001b[39misinstance\u001b[39m(grouper, (\u001b[39mlist\u001b[39m, \u001b[39mtuple\u001b[39m)):\n\u001b[1;32m   1041\u001b[0m         grouper \u001b[39m=\u001b[39m com\u001b[39m.\u001b[39masarray_tuplesafe(grouper)\n",
      "\u001b[0;31mValueError\u001b[0m: Grouper and axis must be same length"
     ]
    }
   ],
   "source": [
    "import pandas as pd\n",
    "import seaborn as sns\n",
    "\n",
    "sns.barplot(x=mean_df.index, y=\"value\", hue=\"variable\", data=pd.melt(mean_df))"
   ]
  },
  {
   "cell_type": "code",
   "execution_count": null,
   "metadata": {},
   "outputs": [],
   "source": [
    "import matplotlib.pyplot as plt\n",
    "\n",
    "col_name = [\n",
    "'faithfulness',\n",
    "'informativeness_step',\n",
    "'informativeness_chain',\n",
    "'faithfulness_ww',\n",
    "'repetition_word',\n",
    "'repetition_step',\n",
    "'discourse_representation',\n",
    "'coherence_step_vs_step',\n",
    "'perplexity_step',\n",
    "'perplexity_chain',\n",
    "'perplexity_step_max',\n",
    "'grammar_step',\n",
    "'grammar_step_max']\n",
    "\n",
    "for key in col_name:\n",
    "    plt.hist(rationale[key], bins=50, density=True, alpha=0.5, label=\"Rationale\")\n",
    "    plt.hist(cot[key], bins=50, density=True, alpha=0.5, label=\"CoT\" ,color=\"red\")\n",
    "    plt.title(key)\n",
    "    plt.xlabel(\"score\")\n",
    "    plt.ylabel(\"density\")\n",
    "    plt.legend(loc='upper right')\n",
    "    plt.savefig(f\"roscoe-512-roberta-base/output/rat_cot_{key}.svg\",format='svg', dpi='figure', bbox_inches='tight')\n",
    "    # plt.show()"
   ]
  },
  {
   "cell_type": "code",
   "execution_count": 12,
   "metadata": {},
   "outputs": [],
   "source": [
    "import matplotlib.pyplot as plt\n",
    "\n",
    "col_name = ['faithfulness', 'informativeness_step', 'informativeness_chain', 'faithfulness_ww', 'repetition_word', 'repetition_step', 'discourse_representation', 'coherence_step_vs_step', 'perplexity_step', 'perplexity_chain', 'perplexity_step_max', 'grammar_step', 'grammar_step_max']\n",
    "\n",
    "fig, axs = plt.subplots(nrows=4, ncols=4, figsize=(16, 16))\n",
    "for i, key in enumerate(col_name):\n",
    "    row = i // 4\n",
    "    col = i % 4\n",
    "    axs[row, col].hist(rationale[key], bins=50, density=True, alpha=0.8, label=\"Rationale\",color=\"darkorange\")\n",
    "    axs[row, col].hist(cot[key], bins=50, density=True, alpha=0.5, label=\"CoT\" ,color=\"silver\")\n",
    "    axs[row, col].set_title(key)\n",
    "    axs[row, col].set_xlabel(\"score\")\n",
    "    axs[row, col].set_ylabel(\"density\")\n",
    "    axs[row, col].legend(loc='upper right')\n",
    "\n",
    "plt.tight_layout()\n",
    "plt.savefig(\"roscoe-512-roberta-base/output/rat_cot.svg\",format='svg', dpi='figure', bbox_inches='tight')\n",
    "plt.show()"
   ]
  }
 ],
 "metadata": {
  "kernelspec": {
   "display_name": "art",
   "language": "python",
   "name": "python3"
  },
  "language_info": {
   "codemirror_mode": {
    "name": "ipython",
    "version": 3
   },
   "file_extension": ".py",
   "mimetype": "text/x-python",
   "name": "python",
   "nbconvert_exporter": "python",
   "pygments_lexer": "ipython3",
   "version": "3.8.16"
  },
  "orig_nbformat": 4
 },
 "nbformat": 4,
 "nbformat_minor": 2
}
